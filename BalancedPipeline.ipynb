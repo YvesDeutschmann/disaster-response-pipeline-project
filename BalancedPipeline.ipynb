{
 "cells": [
  {
   "cell_type": "code",
   "execution_count": 1,
   "metadata": {},
   "outputs": [
    {
     "name": "stderr",
     "output_type": "stream",
     "text": [
      "[nltk_data] Downloading package punkt to\n",
      "[nltk_data]     C:\\Users\\yvesd\\AppData\\Roaming\\nltk_data...\n",
      "[nltk_data]   Package punkt is already up-to-date!\n",
      "[nltk_data] Downloading package stopwords to\n",
      "[nltk_data]     C:\\Users\\yvesd\\AppData\\Roaming\\nltk_data...\n",
      "[nltk_data]   Package stopwords is already up-to-date!\n",
      "[nltk_data] Downloading package wordnet to\n",
      "[nltk_data]     C:\\Users\\yvesd\\AppData\\Roaming\\nltk_data...\n",
      "[nltk_data]   Package wordnet is already up-to-date!\n"
     ]
    }
   ],
   "source": [
    "# import libraries\n",
    "from sqlalchemy import create_engine\n",
    "import pandas as pd\n",
    "import numpy as np\n",
    "import pickle\n",
    "import re\n",
    "\n",
    "import nltk\n",
    "nltk.download('punkt')\n",
    "nltk.download('stopwords')\n",
    "nltk.download('wordnet')\n",
    "\n",
    "from nltk.tokenize import word_tokenize\n",
    "from nltk.stem.porter import PorterStemmer\n",
    "from nltk.corpus import stopwords\n",
    "\n",
    "from sklearn.metrics import precision_score, recall_score, f1_score, make_scorer\n",
    "from sklearn.model_selection import train_test_split\n",
    "from sklearn.feature_extraction.text import CountVectorizer, TfidfTransformer\n",
    "from sklearn.pipeline import Pipeline\n",
    "from sklearn.multioutput import MultiOutputClassifier\n",
    "from joblib import parallel_backend\n",
    "\n",
    "from imblearn.ensemble import BalancedRandomForestClassifier\n",
    "\n",
    "import warnings\n",
    "warnings.simplefilter('ignore')"
   ]
  },
  {
   "cell_type": "code",
   "execution_count": 2,
   "metadata": {},
   "outputs": [],
   "source": [
    "# load data from database\n",
    "engine = create_engine(r'sqlite:///data/DisasterResponse.db', pool_pre_ping=True)\n",
    "df = pd.read_sql_table('CleanData', engine)\n",
    "X = df.message\n",
    "Y = df[df.columns[4:]]"
   ]
  },
  {
   "cell_type": "code",
   "execution_count": 3,
   "metadata": {},
   "outputs": [],
   "source": [
    "Y.drop('child_alone', axis=1, inplace=True)"
   ]
  },
  {
   "cell_type": "code",
   "execution_count": 4,
   "metadata": {},
   "outputs": [],
   "source": [
    "def tokenize(text):\n",
    "    \"\"\"\n",
    "    Normalize and tokenize message strings.\n",
    "    \n",
    "    Args:\n",
    "    text: String - message text to process\n",
    "    Returns:\n",
    "    clean_tokens: list of strings - list of tokens from the message\n",
    "    \"\"\"\n",
    "    # normalize case and remove punctuation\n",
    "    text = text = re.sub('\\W', ' ', text.lower())\n",
    "    \n",
    "    tokens = word_tokenize(text)\n",
    "    stop_words = stopwords.words(\"english\")\n",
    "    \n",
    "    # Reduce words to their stems\n",
    "    clean_tokens = [PorterStemmer().stem(tok).strip() for tok in tokens if tok not in stop_words]\n",
    "\n",
    "    return clean_tokens"
   ]
  },
  {
   "cell_type": "code",
   "execution_count": 5,
   "metadata": {},
   "outputs": [],
   "source": [
    "def report_results(Y_test, Y_pred):\n",
    "    \"\"\"Report precision, recall  and f1_score for the Machine Learning Model.\"\"\"\n",
    "        \n",
    "    results = pd.DataFrame(columns= ['category', 'precision', 'recall', 'f1-score'])\n",
    "        \n",
    "    for i, category in enumerate(Y_test.columns):\n",
    "        y_true = Y_test.iloc[:,i].values\n",
    "        y_pred = Y_pred[:,i]\n",
    "        \n",
    "        row = {'category':category, \n",
    "               'precision':precision_score(y_true, y_pred, zero_division=0, average='macro'), \n",
    "               'recall':recall_score(y_true, y_pred, zero_division=0, average='macro'), \n",
    "               'f1-score':f1_score(y_true, y_pred, zero_division=0, average='macro')}\n",
    "        results = results.append(row, ignore_index=True)\n",
    "    \n",
    "    median_values = {'category':'median_values', \n",
    "               'precision':results['precision'].median(), \n",
    "               'recall':results['recall'].median(), \n",
    "               'f1-score':results['f1-score'].median()}\n",
    "    results = results.append(median_values, ignore_index=True)\n",
    "    \n",
    "    return results"
   ]
  },
  {
   "cell_type": "code",
   "execution_count": 6,
   "metadata": {},
   "outputs": [],
   "source": [
    "X_train, X_test, Y_train, Y_test = train_test_split(X, Y)"
   ]
  },
  {
   "cell_type": "code",
   "execution_count": 7,
   "metadata": {},
   "outputs": [],
   "source": [
    "balanced_pipeline = Pipeline([\n",
    "               ('vect', CountVectorizer(tokenizer=tokenize) ),\n",
    "               ('tfidf', TfidfTransformer() ),\n",
    "               ('clf', MultiOutputClassifier(BalancedRandomForestClassifier(n_jobs=-1) ))\n",
    "                ])"
   ]
  },
  {
   "cell_type": "code",
   "execution_count": 8,
   "metadata": {},
   "outputs": [
    {
     "data": {
      "text/plain": [
       "Pipeline(steps=[('vect',\n",
       "                 CountVectorizer(tokenizer=<function tokenize at 0x0000020ECDE1B9D0>)),\n",
       "                ('tfidf', TfidfTransformer()),\n",
       "                ('clf',\n",
       "                 MultiOutputClassifier(estimator=BalancedRandomForestClassifier(class_weight='balanced',\n",
       "                                                                                min_samples_leaf=5,\n",
       "                                                                                n_estimators=200,\n",
       "                                                                                n_jobs=-1)))])"
      ]
     },
     "execution_count": 8,
     "metadata": {},
     "output_type": "execute_result"
    }
   ],
   "source": [
    "balanced_pipeline.set_params(\n",
    "    vect__ngram_range=(1,1),\n",
    "    clf__estimator__min_samples_leaf= 5,\n",
    "    clf__estimator__class_weight='balanced',\n",
    "    clf__estimator__n_estimators=200)"
   ]
  },
  {
   "cell_type": "code",
   "execution_count": 9,
   "metadata": {},
   "outputs": [],
   "source": [
    "balanced_pipeline.fit(X_train, Y_train)\n",
    "Y_pred = balanced_pipeline.predict(X_test)"
   ]
  },
  {
   "cell_type": "code",
   "execution_count": 11,
   "metadata": {},
   "outputs": [
    {
     "name": "stdout",
     "output_type": "stream",
     "text": [
      "Writing results of BalancedPipeline to DB in table \"BalancedPipeline\".\n",
      "Saving model in pickle files.\n"
     ]
    }
   ],
   "source": [
    "print('Writing results of BalancedPipeline to DB in table \"BalancedPipeline\".')\n",
    "report_results(Y_test, Y_pred).to_sql('BalancedPipeline', engine, index=False, if_exists='replace')\n",
    "print('Saving model in pickle files.')\n",
    "pickle.dump(balanced_pipeline, open('balanced_model.pkl', 'wb'))"
   ]
  }
 ],
 "metadata": {
  "kernelspec": {
   "display_name": "Python 3",
   "language": "python",
   "name": "python3"
  },
  "language_info": {
   "codemirror_mode": {
    "name": "ipython",
    "version": 3
   },
   "file_extension": ".py",
   "mimetype": "text/x-python",
   "name": "python",
   "nbconvert_exporter": "python",
   "pygments_lexer": "ipython3",
   "version": "3.8.3"
  }
 },
 "nbformat": 4,
 "nbformat_minor": 4
}
