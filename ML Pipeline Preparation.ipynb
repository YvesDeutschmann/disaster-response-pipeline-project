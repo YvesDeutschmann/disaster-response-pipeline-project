{
 "cells": [
  {
   "cell_type": "markdown",
   "metadata": {},
   "source": [
    "# ML Pipeline Preparation\n",
    "Follow the instructions below to help you create your ML pipeline.\n",
    "### 1. Import libraries and load data from database.\n",
    "- Import Python libraries\n",
    "- Load dataset from database with [`read_sql_table`](https://pandas.pydata.org/pandas-docs/stable/generated/pandas.read_sql_table.html)\n",
    "- Define feature and target variables X and Y"
   ]
  },
  {
   "cell_type": "code",
   "execution_count": 1,
   "metadata": {},
   "outputs": [
    {
     "name": "stderr",
     "output_type": "stream",
     "text": [
      "[nltk_data] Downloading package punkt to\n",
      "[nltk_data]     C:\\Users\\yvesd\\AppData\\Roaming\\nltk_data...\n",
      "[nltk_data]   Package punkt is already up-to-date!\n",
      "[nltk_data] Downloading package stopwords to\n",
      "[nltk_data]     C:\\Users\\yvesd\\AppData\\Roaming\\nltk_data...\n",
      "[nltk_data]   Package stopwords is already up-to-date!\n",
      "[nltk_data] Downloading package wordnet to\n",
      "[nltk_data]     C:\\Users\\yvesd\\AppData\\Roaming\\nltk_data...\n",
      "[nltk_data]   Package wordnet is already up-to-date!\n"
     ]
    }
   ],
   "source": [
    "# import libraries\n",
    "from sqlalchemy import create_engine\n",
    "import pandas as pd\n",
    "import numpy as np\n",
    "import pickle\n",
    "import re\n",
    "\n",
    "import nltk\n",
    "nltk.download('punkt')\n",
    "nltk.download('stopwords')\n",
    "nltk.download('wordnet')\n",
    "\n",
    "from nltk.tokenize import word_tokenize\n",
    "from nltk.stem.porter import PorterStemmer\n",
    "from nltk.corpus import stopwords\n",
    "\n",
    "from sklearn.metrics import precision_score, recall_score, f1_score, make_scorer\n",
    "from sklearn.model_selection import GridSearchCV, train_test_split\n",
    "from sklearn.ensemble import RandomForestClassifier\n",
    "from sklearn.feature_extraction.text import CountVectorizer, TfidfTransformer\n",
    "from sklearn.pipeline import Pipeline\n",
    "from sklearn.multioutput import MultiOutputClassifier\n",
    "from joblib import parallel_backend\n",
    "\n",
    "from imblearn.ensemble import BalancedRandomForestClassifier\n",
    "\n",
    "import warnings\n",
    "warnings.simplefilter('ignore')"
   ]
  },
  {
   "cell_type": "code",
   "execution_count": 2,
   "metadata": {},
   "outputs": [],
   "source": [
    "# load data from database\n",
    "engine = create_engine(r'sqlite:///data/DisasterResponse.db', pool_pre_ping=True)\n",
    "df = pd.read_sql_table('CleanData', engine)\n",
    "X = df.message\n",
    "Y = df[df.columns[4:]]"
   ]
  },
  {
   "cell_type": "markdown",
   "metadata": {},
   "source": [
    "### 2. Write a tokenization function to process your text data"
   ]
  },
  {
   "cell_type": "code",
   "execution_count": 4,
   "metadata": {},
   "outputs": [],
   "source": [
    "def tokenize(text):\n",
    "    \"\"\"\n",
    "    Normalize and tokenize message strings.\n",
    "    \n",
    "    Args:\n",
    "    text: String - message text to process\n",
    "    Returns:\n",
    "    clean_tokens: list of strings - list of tokens from the message\n",
    "    \"\"\"\n",
    "    # normalize case and remove punctuation\n",
    "    text = text = re.sub('\\W', ' ', text.lower())\n",
    "    \n",
    "    tokens = word_tokenize(text)\n",
    "    stop_words = stopwords.words(\"english\")\n",
    "    \n",
    "    # Reduce words to their stems\n",
    "    clean_tokens = [PorterStemmer().stem(tok).strip() for tok in tokens if tok not in stop_words]\n",
    "\n",
    "    return clean_tokens"
   ]
  },
  {
   "cell_type": "markdown",
   "metadata": {},
   "source": [
    "### 3. Build a machine learning pipeline\n",
    "This machine pipeline should take in the `message` column as input and output classification results on the other 36 categories in the dataset. You may find the [MultiOutputClassifier](http://scikit-learn.org/stable/modules/generated/sklearn.multioutput.MultiOutputClassifier.html) helpful for predicting multiple target variables."
   ]
  },
  {
   "cell_type": "code",
   "execution_count": 5,
   "metadata": {},
   "outputs": [],
   "source": [
    "pipeline = Pipeline([\n",
    "               ('vect', CountVectorizer(tokenizer=tokenize) ),\n",
    "               ('tfidf', TfidfTransformer() ),\n",
    "               ('clf', MultiOutputClassifier(RandomForestClassifier(n_jobs=-1)) )\n",
    "                ])"
   ]
  },
  {
   "cell_type": "markdown",
   "metadata": {},
   "source": [
    "### 4. Train pipeline\n",
    "- Split data into train and test sets\n",
    "- Train pipeline"
   ]
  },
  {
   "cell_type": "code",
   "execution_count": 9,
   "metadata": {},
   "outputs": [],
   "source": [
    "X_train, X_test, Y_train, Y_test = train_test_split(X, Y)"
   ]
  },
  {
   "cell_type": "markdown",
   "metadata": {},
   "source": [
    "### 5. Test your model\n",
    "Report the f1 score, precision and recall for each output category of the dataset. You can do this by iterating through the columns and calling sklearn's `classification_report` on each."
   ]
  },
  {
   "cell_type": "code",
   "execution_count": 6,
   "metadata": {},
   "outputs": [],
   "source": [
    "def report_results(Y_test, Y_pred):\n",
    "    \"\"\"Report precision, recall  and f1_score for the Machine Learning Model.\"\"\"\n",
    "        \n",
    "    results = pd.DataFrame(columns= ['category', 'precision', 'recall', 'f1-score'])\n",
    "        \n",
    "    for i, category in enumerate(Y_test.columns):\n",
    "        y_true = Y_test.iloc[:,i].values\n",
    "        y_pred = Y_pred[:,i]\n",
    "        \n",
    "        row = {'category':category, \n",
    "               'precision':precision_score(y_true, y_pred, zero_division=0, average='macro'), \n",
    "               'recall':recall_score(y_true, y_pred, zero_division=0, average='macro'), \n",
    "               'f1-score':f1_score(y_true, y_pred, zero_division=0, average='macro')}\n",
    "        results = results.append(row, ignore_index=True)\n",
    "    \n",
    "    median_values = {'category':'median_values', \n",
    "               'precision':results['precision'].median(), \n",
    "               'recall':results['recall'].median(), \n",
    "               'f1-score':results['f1-score'].median()}\n",
    "    results = results.append(median_values, ignore_index=True)\n",
    "    \n",
    "    return results"
   ]
  },
  {
   "cell_type": "code",
   "execution_count": 7,
   "metadata": {},
   "outputs": [],
   "source": [
    "pipeline.fit(X_train, Y_train)\n",
    "\n",
    "Y_pred = pipeline.predict(X_test)"
   ]
  },
  {
   "cell_type": "code",
   "execution_count": null,
   "metadata": {},
   "outputs": [],
   "source": [
    "print('Writing results to DB in table \"Pipeline\".')\n",
    "report_results(Y_test, Y_pred).to_sql('Pipeline', engine, index=False, if_exists='replace')"
   ]
  },
  {
   "cell_type": "markdown",
   "metadata": {},
   "source": [
    "Due to remote execution of this code we will later transfer this notebook into a plain python script and write the performance results into the existing SQL database. When we transfer the data back to our local machine we're able to read out the tables and copmpare the models."
   ]
  },
  {
   "cell_type": "markdown",
   "metadata": {},
   "source": [
    "### 6. Improve your model\n",
    "Use grid search to find better parameters. "
   ]
  },
  {
   "cell_type": "code",
   "execution_count": 24,
   "metadata": {},
   "outputs": [],
   "source": [
    "def f1_scorer(y_true, y_pred):\n",
    "    \"\"\"\n",
    "    Calculate median F1-Score to measure model performance.\n",
    "    Args:\n",
    "    y_true: DataFrame containing the actual labels\n",
    "    y_pred: Array containing the predicted labels\n",
    "    Returns:\n",
    "    f1_score: Float representing the median F1-Score for the model.\n",
    "    \"\"\"\n",
    "    scores = []\n",
    "        \n",
    "    for i in range(y_pred.shape[1]):\n",
    "        scores.append(f1_score(np.array(y_true)[:,i], y_pred[:,i], zero_division=0, average='macro'))\n",
    "    score = np.median(scores)\n",
    "    return score"
   ]
  },
  {
   "cell_type": "code",
   "execution_count": 25,
   "metadata": {},
   "outputs": [],
   "source": [
    "parameters = {\n",
    "    'vect__ngram_range': [(1,1), (1,2), (1,4)],\n",
    "    'clf__estimator__min_samples_leaf':[1, 5],\n",
    "    'clf__estimator__class_weight': [None, 'balanced'],\n",
    "    'clf__estimator__n_estimators': [50, 100, 200]         \n",
    "    }\n",
    "scorer = make_scorer(f1_scorer)\n",
    "cv = GridSearchCV(pipeline, param_grid=parameters, scoring=scorer, verbose=3)"
   ]
  },
  {
   "cell_type": "markdown",
   "metadata": {},
   "source": [
    "### 7. Test your model\n",
    "Show the accuracy, precision, and recall of the tuned model.  \n",
    "\n",
    "Since this project focuses on code quality, process, and  pipelines, there is no minimum performance metric needed to pass. However, make sure to fine tune your models for accuracy, precision and recall to make your project stand out - especially for your portfolio!"
   ]
  },
  {
   "cell_type": "code",
   "execution_count": 28,
   "metadata": {
    "scrolled": false
   },
   "outputs": [
    {
     "name": "stdout",
     "output_type": "stream",
     "text": [
      "Fitting 5 folds for each of 1 candidates, totalling 5 fits\n",
      "[CV] clf__estimator__min_samples_leaf=1, vect__ngram_range=(1, 1) ....\n",
      "[CV] clf__estimator__min_samples_leaf=1, vect__ngram_range=(1, 1) ....\n",
      "[CV] clf__estimator__min_samples_leaf=1, vect__ngram_range=(1, 1) ....\n",
      "[CV] clf__estimator__min_samples_leaf=1, vect__ngram_range=(1, 1) ....\n",
      "[CV] clf__estimator__min_samples_leaf=1, vect__ngram_range=(1, 1) ....\n",
      "[CV]  clf__estimator__min_samples_leaf=1, vect__ngram_range=(1, 1), score=nan, total=   0.1s\n",
      "[CV]  clf__estimator__min_samples_leaf=1, vect__ngram_range=(1, 1), score=nan, total=   0.1s\n",
      "[CV]  clf__estimator__min_samples_leaf=1, vect__ngram_range=(1, 1), score=nan, total=   0.1s\n"
     ]
    },
    {
     "name": "stderr",
     "output_type": "stream",
     "text": [
      "[Parallel(n_jobs=-1)]: Using backend ThreadingBackend with 8 concurrent workers.\n",
      "[Parallel(n_jobs=-1)]: Done   2 out of   5 | elapsed:    0.0s remaining:    0.0s\n"
     ]
    },
    {
     "name": "stdout",
     "output_type": "stream",
     "text": [
      "[CV]  clf__estimator__min_samples_leaf=1, vect__ngram_range=(1, 1), score=0.548, total= 5.0min\n",
      "[CV]  clf__estimator__min_samples_leaf=1, vect__ngram_range=(1, 1), score=0.541, total= 5.1min\n"
     ]
    },
    {
     "name": "stderr",
     "output_type": "stream",
     "text": [
      "[Parallel(n_jobs=-1)]: Done   5 out of   5 | elapsed:  5.1min finished\n"
     ]
    }
   ],
   "source": [
    "cv.fit(X_train, Y_train)"
   ]
  },
  {
   "cell_type": "code",
   "execution_count": 65,
   "metadata": {},
   "outputs": [],
   "source": [
    "# Get results of grid search\n",
    "data = {'parameter': list(cv.best_params_.keys()),\n",
    "        'value': [str(value) for value in cv.best_params_.values()]}\n",
    "cv_results = pd.DataFrame(data)\n",
    "cv_results = cv_results.append(\n",
    "    {'parameter': 'median f1-score','value': np.max(cv.cv_results_['mean_test_score'])},\n",
    "    ignore_index=True)\n",
    "print('Writing results of GridSearch.fit to DB in table \"GsFit\".')\n",
    "cv_results.to_sql('GsFit', engine, index=False, if_exists='replace')"
   ]
  },
  {
   "cell_type": "code",
   "execution_count": null,
   "metadata": {},
   "outputs": [],
   "source": [
    "Y_pred = cv.predict(X_test)\n",
    "print('Writing results of GridSearch.predict to DB in table \"GsPredict\".')\n",
    "report_results(Y_test, Y_pred).to_sql('GsPredict', engine, index=False, if_exists='replace')"
   ]
  },
  {
   "cell_type": "markdown",
   "metadata": {},
   "source": [
    "### 8. Try improving your model further. Here are a few ideas:\n",
    "* try other machine learning algorithms\n",
    "* add other features besides the TF-IDF"
   ]
  },
  {
   "cell_type": "code",
   "execution_count": null,
   "metadata": {},
   "outputs": [],
   "source": [
    "balanced_pipeline = Pipeline([\n",
    "               ('vect', CountVectorizer(tokenizer=tokenize) ),\n",
    "               ('tfidf', TfidfTransformer() ),\n",
    "               ('clf', MultiOutputClassifier(BalancedRandomForestClassifier(n_jobs=-1) ))\n",
    "                ])"
   ]
  },
  {
   "cell_type": "code",
   "execution_count": null,
   "metadata": {},
   "outputs": [],
   "source": [
    "keys = ['vect__ngram_range',\n",
    "        'clf__estimator__min_samples_leaf',\n",
    "        'clf__estimator__class_weight',\n",
    "        'clf__estimator__n_estimators']\n",
    "values = [cv.get_params(True)[key] for key in keys]\n",
    "tuning_params = dict(zip(keys, values))"
   ]
  },
  {
   "cell_type": "code",
   "execution_count": null,
   "metadata": {},
   "outputs": [],
   "source": [
    "balanced_pipeline.set_params(\n",
    "    vect__ngram_range = tuning_params['vect__ngram_range'],\n",
    "    clf__estimator__min_samples_leaf = tuning_params['clf__estimator__min_samples_leaf'],\n",
    "    clf__estimator__class_weight = tuning_params['clf__estimator__class_weight'],\n",
    "    clf__estimator__n_estimators = tuning_params['clf__estimator__n_estimators']\n",
    ")"
   ]
  },
  {
   "cell_type": "code",
   "execution_count": null,
   "metadata": {},
   "outputs": [],
   "source": [
    "balanced_pipeline.fit(X_train, Y_train)\n",
    "Y_pred = balanced_pipeline.predict(X_test)"
   ]
  },
  {
   "cell_type": "code",
   "execution_count": null,
   "metadata": {},
   "outputs": [],
   "source": [
    "print('Writing results of BalancedPipeline to DB in table \"BalancedPipeline\".')\n",
    "report_results(Y_test, Y_pred).to_sql('BalancedPipeline', engine, index=False, if_exists='replace')"
   ]
  },
  {
   "cell_type": "markdown",
   "metadata": {},
   "source": [
    "### 9. Export your model as a pickle file"
   ]
  },
  {
   "cell_type": "code",
   "execution_count": null,
   "metadata": {},
   "outputs": [],
   "source": [
    "print('Saving models in pickle files.')\n",
    "pickle.dump(cv, open('disaster_model.pkl', 'wb'))\n",
    "pickle.dump(balanced_pipeline, open('balanced_model.pkl', 'wb'))"
   ]
  },
  {
   "cell_type": "markdown",
   "metadata": {},
   "source": [
    "### 10. Use this notebook to complete `train.py`\n",
    "Use the template file attached in the Resources folder to write a script that runs the steps above to create a database and export a model based on a new dataset specified by the user."
   ]
  },
  {
   "cell_type": "code",
   "execution_count": null,
   "metadata": {},
   "outputs": [],
   "source": []
  }
 ],
 "metadata": {
  "kernelspec": {
   "display_name": "Python 3",
   "language": "python",
   "name": "python3"
  },
  "language_info": {
   "codemirror_mode": {
    "name": "ipython",
    "version": 3
   },
   "file_extension": ".py",
   "mimetype": "text/x-python",
   "name": "python",
   "nbconvert_exporter": "python",
   "pygments_lexer": "ipython3",
   "version": "3.8.3"
  }
 },
 "nbformat": 4,
 "nbformat_minor": 2
}
